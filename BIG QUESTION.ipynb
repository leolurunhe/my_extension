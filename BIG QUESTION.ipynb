{
 "cells": [
  {
   "cell_type": "markdown",
   "metadata": {
    "description": "Sed ut perspiciatis unde omnis iste natus error sit voluptatem accusantium doloremque laudantium, totam rem aperiam, eaque ipsa quae ab illo inventore veritatis et quasi architecto beatae vitae dicta sunt explicabo. Nemo enim ipsam voluptatem quia voluptas sit aspernatur aut odit aut fugit, sed quia consequuntur magni dolores eos qui ratione voluptatem sequi nesciunt. Neque porro quisquam est, qui dolorem ipsum quia dolor sit amet, consectetur, adipisci velit, sed quia non numquam eius modi tempora incidunt ut labore et dolore magnam aliquam quaerat voluptatem. Ut enim ad minima veniam, quis nostrum exercitationem ullam corporis suscipit laboriosam, nisi ut aliquid ex ea commodi consequatur? Quis autem vel eum iure reprehenderit qui in ea voluptate velit esse quam nihil molestiae consequatur, vel illum qui dolorem eum fugiat quo voluptas nulla pariatur?",
    "editable": false,
    "license": "University of Michigan",
    "name": "BIG QUESTION",
    "partlist_id": "ibxahk",
    "question_id": "afqxgq",
    "type": "prologue"
   },
   "source": [
    "# BBIIIIIGGGG QUESTION \n",
    " This cell describes the question in markdown format. A good question description provides a high level overview of the goals of the assignment in general terms, and shouldn’t be overly long.\n",
    "\n",
    "\n"
   ]
  },
  {
   "cell_type": "code",
   "execution_count": null,
   "metadata": {
    "editable": false,
    "question_id": "afqxgq",
    "type": "stub"
   },
   "outputs": [],
   "source": [
    "import pandas as pd \n",
    "import numpy as np\n",
    "\n",
    "\n"
   ]
  },
  {
   "cell_type": "markdown",
   "metadata": {
    "editable": false,
    "part_id": "wqxzwf",
    "part_order": 1,
    "type": "prologue"
   },
   "source": [
    "This cell describes a specific part or step of a question. Parts are expected to be done in sequence by the learner, and one part might use the output or techniques of other parts as partial steps in a solution. Each part should be solvable and tested for (e.g. by an autograder). A good part description tells the learner what they need to accomplish in a clear and unambiguous way, and is of a small enough size that it can be done in a timely manner, but is large enough to capture the learner’s interest.\n",
    "\n"
   ]
  },
  {
   "cell_type": "code",
   "execution_count": null,
   "metadata": {
    "part_id": "wqxzwf",
    "part_order": 1,
    "type": "stub"
   },
   "outputs": [],
   "source": [
    "def part_id():\n",
    "    '''\n",
    "    This comment should describe what the return values for the learner’s code should be. Documents should conform to reStructuredText format. An example return statement is listed below\n",
    "    :return: a tuple where the first value is an int indicating the number if items in the dataframe, and the second value is\n",
    "    '''\n",
    "    #put any scaffolding code here\n",
    "    #the student will replace this code with their own Rfeturn\n",
    "    pass\n",
    "    \n",
    "\n"
   ]
  },
  {
   "cell_type": "code",
   "execution_count": null,
   "metadata": {
    "part_id": "wqxzwf",
    "part_order": 1,
    "type": "answer"
   },
   "outputs": [],
   "source": [
    "This cell describes a specific part or step of a question. Parts are expected to be done in sequence by the learner, and one part might use the output or techniques of other parts as partial steps in a solution. Each part should be solvable and tested for (e.g. by an autograder). A good part description tells the learner what they need to accomplish in a clear and unambiguous way, and is of a small enough size that it can be done in a timely manner, but is large enough to capture the learner’s interest.\n",
    "\n"
   ]
  },
  {
   "cell_type": "markdown",
   "metadata": {
    "editable": false,
    "part_id": "klvoni",
    "part_order": 2,
    "type": "prologue"
   },
   "source": [
    "This cell describes a specific part or step of a question. Parts are expected to be done in sequence by the learner, and one part might use the output or techniques of other parts as partial steps in a solution. Each part should be solvable and tested for (e.g. by an autograder). A good part description tells the learner what they need to accomplish in a clear and unambiguous way, and is of a small enough size that it can be done in a timely manner, but is large enough to capture the learner’s interest.\n",
    "\n"
   ]
  },
  {
   "cell_type": "code",
   "execution_count": null,
   "metadata": {
    "part_id": "klvoni",
    "part_order": 2,
    "type": "stub"
   },
   "outputs": [],
   "source": [
    "def part_id():\n",
    "    '''\n",
    "    This comment should describe what the return values for the learner’s code should be. Documents should conform to reStructuredText format. An example return statement is listed below\n",
    "    :return: a tuple where the first value is an int indicating the number if items in the dataframe, and the second value is\n",
    "    '''\n",
    "    #put any scaffolding code here\n",
    "    #the student will replace this code with their own Rfeturn\n",
    "    pass\n",
    "    \n",
    "\n"
   ]
  },
  {
   "cell_type": "code",
   "execution_count": null,
   "metadata": {
    "part_id": "klvoni",
    "part_order": 2,
    "type": "answer"
   },
   "outputs": [],
   "source": [
    "This cell describes a specific part or step of a question. Parts are expected to be done in sequence by the learner, and one part might use the output or techniques of other parts as partial steps in a solution. Each part should be solvable and tested for (e.g. by an autograder). A good part description tells the learner what they need to accomplish in a clear and unambiguous way, and is of a small enough size that it can be done in a timely manner, but is large enough to capture the learner’s interest.\n",
    "\n"
   ]
  },
  {
   "cell_type": "markdown",
   "metadata": {
    "editable": false,
    "part_id": "bwwlrb",
    "part_order": 3,
    "type": "prologue"
   },
   "source": [
    "This cell describes a specific part or step of a question. Parts are expected to be done in sequence by the learner, and one part might use the output or techniques of other parts as partial steps in a solution. Each part should be solvable and tested for (e.g. by an autograder). A good part description tells the learner what they need to accomplish in a clear and unambiguous way, and is of a small enough size that it can be done in a timely manner, but is large enough to capture the learner’s interest.\n",
    "\n"
   ]
  },
  {
   "cell_type": "code",
   "execution_count": null,
   "metadata": {
    "part_id": "bwwlrb",
    "part_order": 3,
    "type": "stub"
   },
   "outputs": [],
   "source": [
    "def part_id():\n",
    "    '''\n",
    "    This comment should describe what the return values for the learner’s code should be. Documents should conform to reStructuredText format. An example return statement is listed below\n",
    "    :return: a tuple where the first value is an int indicating the number if items in the dataframe, and the second value is\n",
    "    '''\n",
    "    #put any scaffolding code here\n",
    "    #the student will replace this code with their own Rfeturn\n",
    "    pass\n",
    "    \n",
    "\n"
   ]
  },
  {
   "cell_type": "code",
   "execution_count": null,
   "metadata": {
    "part_id": "bwwlrb",
    "part_order": 3,
    "type": "answer"
   },
   "outputs": [],
   "source": [
    "This cell describes a specific part or step of a question. Parts are expected to be done in sequence by the learner, and one part might use the output or techniques of other parts as partial steps in a solution. Each part should be solvable and tested for (e.g. by an autograder). A good part description tells the learner what they need to accomplish in a clear and unambiguous way, and is of a small enough size that it can be done in a timely manner, but is large enough to capture the learner’s interest.\n",
    "\n"
   ]
  },
  {
   "cell_type": "markdown",
   "metadata": {
    "editable": false,
    "part_id": "pyuuam",
    "part_order": 4,
    "type": "prologue"
   },
   "source": [
    "This cell describes a specific part or step of a question. Parts are expected to be done in sequence by the learner, and one part might use the output or techniques of other parts as partial steps in a solution. Each part should be solvable and tested for (e.g. by an autograder). A good part description tells the learner what they need to accomplish in a clear and unambiguous way, and is of a small enough size that it can be done in a timely manner, but is large enough to capture the learner’s interest.\n",
    "\n"
   ]
  },
  {
   "cell_type": "code",
   "execution_count": null,
   "metadata": {
    "part_id": "pyuuam",
    "part_order": 4,
    "type": "stub"
   },
   "outputs": [],
   "source": [
    "def part_id():\n",
    "    '''\n",
    "    This comment should describe what the return values for the learner’s code should be. Documents should conform to reStructuredText format. An example return statement is listed below\n",
    "    :return: a tuple where the first value is an int indicating the number if items in the dataframe, and the second value is\n",
    "    '''\n",
    "    #put any scaffolding code here\n",
    "    #the student will replace this code with their own Rfeturn\n",
    "    pass\n",
    "    \n",
    "\n"
   ]
  },
  {
   "cell_type": "code",
   "execution_count": null,
   "metadata": {
    "part_id": "pyuuam",
    "part_order": 4,
    "type": "answer"
   },
   "outputs": [],
   "source": [
    "This cell describes a specific part or step of a question. Parts are expected to be done in sequence by the learner, and one part might use the output or techniques of other parts as partial steps in a solution. Each part should be solvable and tested for (e.g. by an autograder). A good part description tells the learner what they need to accomplish in a clear and unambiguous way, and is of a small enough size that it can be done in a timely manner, but is large enough to capture the learner’s interest.\n",
    "\n"
   ]
  },
  {
   "cell_type": "markdown",
   "metadata": {
    "editable": false,
    "part_id": "kuljct",
    "part_order": 5,
    "type": "prologue"
   },
   "source": [
    "This cell describes a specific part or step of a question. Parts are expected to be done in sequence by the learner, and one part might use the output or techniques of other parts as partial steps in a solution. Each part should be solvable and tested for (e.g. by an autograder). A good part description tells the learner what they need to accomplish in a clear and unambiguous way, and is of a small enough size that it can be done in a timely manner, but is large enough to capture the learner’s interest.\n",
    "\n"
   ]
  },
  {
   "cell_type": "code",
   "execution_count": null,
   "metadata": {
    "part_id": "kuljct",
    "part_order": 5,
    "type": "stub"
   },
   "outputs": [],
   "source": [
    "def part_id():\n",
    "    '''\n",
    "    This comment should describe what the return values for the learner’s code should be. Documents should conform to reStructuredText format. An example return statement is listed below\n",
    "    :return: a tuple where the first value is an int indicating the number if items in the dataframe, and the second value is\n",
    "    '''\n",
    "    #put any scaffolding code here\n",
    "    #the student will replace this code with their own Rfeturn\n",
    "    pass\n",
    "    \n",
    "\n"
   ]
  },
  {
   "cell_type": "code",
   "execution_count": null,
   "metadata": {
    "part_id": "kuljct",
    "part_order": 5,
    "type": "answer"
   },
   "outputs": [],
   "source": [
    "This cell describes a specific part or step of a question. Parts are expected to be done in sequence by the learner, and one part might use the output or techniques of other parts as partial steps in a solution. Each part should be solvable and tested for (e.g. by an autograder). A good part description tells the learner what they need to accomplish in a clear and unambiguous way, and is of a small enough size that it can be done in a timely manner, but is large enough to capture the learner’s interest.\n",
    "\n"
   ]
  },
  {
   "cell_type": "markdown",
   "metadata": {
    "editable": false,
    "part_id": "ecbpkt",
    "part_order": 6,
    "type": "prologue"
   },
   "source": [
    "This cell describes a specific part or step of a question. Parts are expected to be done in sequence by the learner, and one part might use the output or techniques of other parts as partial steps in a solution. Each part should be solvable and tested for (e.g. by an autograder). A good part description tells the learner what they need to accomplish in a clear and unambiguous way, and is of a small enough size that it can be done in a timely manner, but is large enough to capture the learner’s interest.\n"
   ]
  },
  {
   "cell_type": "code",
   "execution_count": null,
   "metadata": {
    "part_id": "ecbpkt",
    "part_order": 6,
    "type": "stub"
   },
   "outputs": [],
   "source": [
    "def part_id():\n",
    "    '''\n",
    "    This comment should describe what the return values for the learner’s code should be. Documents should conform to reStructuredText format. An example return statement is listed below\n",
    "    :return: a tuple where the first value is an int indicating the number if items in the dataframe, and the second value is\n",
    "    '''\n",
    "    #put any scaffolding code here\n",
    "    #the student will replace this code with their own Rfeturn\n",
    "    pass\n",
    "    \n"
   ]
  },
  {
   "cell_type": "code",
   "execution_count": null,
   "metadata": {
    "part_id": "ecbpkt",
    "part_order": 6,
    "type": "answer"
   },
   "outputs": [],
   "source": [
    "def sample_solution():\n",
    "    pass\n",
    "        \n"
   ]
  }
 ],
 "metadata": {
  "anaconda-cloud": {},
  "coursera": {
   "course_slug": "python-data-analysis",
   "graded_item_id": "tHmgx",
   "launcher_item_id": "Um6Bz",
   "part_id": "OQsnr"
  },
  "kernelspec": {
   "display_name": "Python 3",
   "language": "python",
   "name": "python3"
  },
  "language_info": {
   "codemirror_mode": {
    "name": "ipython",
    "version": 3
   },
   "file_extension": ".py",
   "mimetype": "text/x-python",
   "name": "python",
   "nbconvert_exporter": "python",
   "pygments_lexer": "ipython3",
   "version": "3.6.5"
  },
  "umich": {
   "id": "Assignment 2",
   "version": "1.2"
  }
 },
 "nbformat": 4,
 "nbformat_minor": 1
}
